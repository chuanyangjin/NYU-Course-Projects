{
  "cells": [
    {
      "cell_type": "markdown",
      "metadata": {
        "id": "PtcBjMq7YV3f"
      },
      "source": [
        "\n",
        "\n",
        "# Homework 2 - Recurrent Neural Networks"
      ]
    },
    {
      "cell_type": "markdown",
      "metadata": {
        "id": "Rn-cOk1iZTtR"
      },
      "source": [
        "In this part of the homework we are going to work with Recurrent Neural Networks, in particular GRU. One of the greatest things that Recurrent Neural Networks can do when working with sequences is retaining data from several timesteps in the past. We are going to explore that property by constructing an 'echo' Recurrent Neural Network.\n",
        "\n",
        "The goal here is to make a model that given a sequence of letters or digits will output that same sequence, but with a certain delay. Let's say the input is a string 'abacaba', we want the model to not output anything for 3 steps (delay length), and then output the original string step by step, except the last 3 characters. So, target output is then 'XXXabac', where 'X' is empty output.\n",
        "\n",
        "This is similar to [this notebook](https://github.com/Atcold/pytorch-Deep-Learning/blob/master/09-echo_data.ipynb) (which you should refer to when doing this assignment), except we're working not with a binary string, but with a sequence of integers between 0 and some N. In our case N is 26, which is the number of letters in the alphabet."
      ]
    },
    {
      "cell_type": "markdown",
      "metadata": {
        "id": "npLlE973as6x"
      },
      "source": [
        "## Dataset\n",
        "\n",
        "Let's implement the dataset. In our case, the data is basically infinite, as we can always generate more examples on the fly, so there's no need to load it from disk."
      ]
    },
    {
      "cell_type": "code",
      "execution_count": 19,
      "metadata": {
        "id": "mkEEMyvzIMRx"
      },
      "outputs": [],
      "source": [
        "import random\n",
        "import string\n",
        "\n",
        "import torch\n",
        "\n",
        "# Max value of the generated integer. 26 is chosen becuase it's\n",
        "# the number of letters in English alphabet.\n",
        "N = 26\n",
        "\n",
        "\n",
        "def idx_to_onehot(x, k=N+1):\n",
        "  \"\"\" Converts the generated integers to one-hot vectors \"\"\"\n",
        "  ones = torch.sparse.torch.eye(k)\n",
        "  shape = x.shape\n",
        "  res = ones.index_select(0, x.view(-1).type(torch.int64))\n",
        "  return res.view(*shape, res.shape[-1])\n",
        "\n",
        "\n",
        "class EchoDataset(torch.utils.data.IterableDataset):\n",
        "\n",
        "  def __init__(self, delay=4, seq_length=15, size=1000):\n",
        "    self.delay = delay\n",
        "    self.seq_length = seq_length\n",
        "    self.size = size\n",
        "  \n",
        "  def __len__(self):\n",
        "    return self.size\n",
        "\n",
        "  def __iter__(self):\n",
        "    \"\"\" Iterable dataset doesn't have to implement __getitem__.\n",
        "        Instead, we only need to implement __iter__ to return\n",
        "        an iterator (or generator).\n",
        "    \"\"\"\n",
        "    for _ in range(self.size):\n",
        "      seq = torch.tensor([random.choice(range(1, N + 1)) for i in range(self.seq_length)], dtype=torch.int64)\n",
        "      result = torch.cat((torch.zeros(self.delay), seq[:self.seq_length - self.delay])).type(torch.int64)\n",
        "      yield seq, result\n",
        "\n",
        "DELAY = 4\n",
        "DATASET_SIZE = 200000\n",
        "ds = EchoDataset(delay=DELAY, size=DATASET_SIZE)"
      ]
    },
    {
      "cell_type": "markdown",
      "metadata": {
        "id": "nNrZqYURcKSl"
      },
      "source": [
        "## Model\n",
        "\n",
        "Now, we want to implement the model. For our purposes, we want to use GRU. The architecture consists of GRU and a decoder. Decoder is responsible for decoding the GRU hidden state to yield a predicting for the next output. The parts you are responsible for filling with your code are marked with `TODO`. "
      ]
    },
    {
      "cell_type": "code",
      "execution_count": 52,
      "metadata": {
        "id": "nigN_o4Mb9Nx"
      },
      "outputs": [],
      "source": [
        "class GRUMemory(torch.nn.Module):\n",
        "\n",
        "  def __init__(self, hidden_size):\n",
        "    super().__init__()\n",
        "    #TODO: initialize your submodules\n",
        "    self.hidden_size = hidden_size\n",
        "    self.linear_z = torch.nn.Linear(27 + hidden_size, hidden_size)\n",
        "    self.linear_r = torch.nn.Linear(27 + hidden_size, hidden_size)\n",
        "    self.linear_h = torch.nn.Linear(27 + hidden_size, hidden_size)\n",
        "    self.linear = torch.nn.Linear(hidden_size, 27)\n",
        "    self.softmax = torch.nn.Softmax(dim=1)\n",
        "\n",
        "  def forward(self, x):\n",
        "    # inputs: x - input tensor of shape (batch_size, seq_length, N+1)\n",
        "    # returns:\n",
        "    # logits (scores for softmax) of shape (batch size, seq_length, N + 1)\n",
        "    # TODO implement forward pass\n",
        "    batch_size, seq_length, _ = x.shape\n",
        "    h = torch.zeros(batch_size, self.hidden_size).to(x.device)\n",
        "    out = torch.zeros(batch_size, seq_length, self.hidden_size).to(x.device)\n",
        "    for t in range(seq_length):\n",
        "        x_t = x[:, t, :]\n",
        "        z_t = torch.sigmoid(self.linear_z(torch.cat([x_t, h], dim=1)))\n",
        "        r_t = torch.sigmoid(self.linear_r(torch.cat([x_t, h], dim=1))) \n",
        "        r_temp = r_t * h\n",
        "        h_temp = torch.tanh(self.linear_h(torch.cat([x_t, r_temp], dim=1)))\n",
        "        h = (1 - z_t) * h + z_t * h_temp\n",
        "        out[:, t, :] = h\n",
        "\n",
        "    out = self.linear(out)\n",
        "    out = self.softmax(out)\n",
        "    return out\n",
        "\n",
        "  @torch.no_grad()\n",
        "  def test_run(self, s):\n",
        "    # This function accepts one string s containing lowercase characters a-z. \n",
        "    # You need to map those characters to one-hot encodings, \n",
        "    # then get the result from your network, and then convert the output \n",
        "    # back to a string of the same length, with 0 mapped to ' ', \n",
        "    # and 1-26 mapped to a-z.\n",
        "\n",
        "    # TODO\n",
        "    s_onehot = torch.zeros(1, len(s), 27)\n",
        "    for i in range(len(s)):\n",
        "        if s[i] == ' ':\n",
        "          s_onehot[0, i, 0] = 1\n",
        "        else:\n",
        "          s_onehot[0, i, ord(s[i]) - ord('a') + 1] = 1\n",
        "\n",
        "    output = self.forward(s_onehot)\n",
        "\n",
        "    # Convert to string\n",
        "    s_out = ''\n",
        "    for i in range(output.size(1)):\n",
        "        c_out = torch.argmax(output[0, i]).item()\n",
        "        if c_out == 0:\n",
        "            s_out += ' '\n",
        "        else:\n",
        "            s_out += chr(c_out + ord('a') - 1)\n",
        "\n",
        "    return s_out"
      ]
    },
    {
      "cell_type": "markdown",
      "metadata": {
        "id": "A9whwmVu9OIx"
      },
      "source": [
        "## Training\n",
        "Below you need to implement the training of the model. We give you more freedom as for the implementation. The two limitations are that it has to execute within 10 minutes, and that error rate should be below 1%."
      ]
    },
    {
      "cell_type": "code",
      "execution_count": 28,
      "metadata": {
        "id": "lUZkeRnVTNzG"
      },
      "outputs": [],
      "source": [
        "def test_model(model, sequence_length=15):\n",
        "  \"\"\"\n",
        "  This is the test function that runs 100 different strings through your model,\n",
        "  and checks the error rate.\n",
        "  \"\"\"\n",
        "  total = 0\n",
        "  correct = 0\n",
        "  D = DELAY\n",
        "  for i in range(500):\n",
        "    s = ''.join([random.choice(string.ascii_lowercase) for i in range(random.randint(15, 25))])\n",
        "    result = model.test_run(s)\n",
        "    for c1, c2 in zip(s[:-D], result[D:]):\n",
        "      correct += int(c1 == c2)\n",
        "    total += len(s) - D\n",
        "    break\n",
        "\n",
        "  return correct / total"
      ]
    },
    {
      "cell_type": "code",
      "execution_count": 55,
      "metadata": {
        "colab": {
          "base_uri": "https://localhost:8080/"
        },
        "id": "9lV9BscxCCAI",
        "outputId": "52460cc0-77bf-400d-f5c9-f91822719d50"
      },
      "outputs": [
        {
          "name": "stdout",
          "output_type": "stream",
          "text": [
            "Epoch 1\n",
            "Batch 0 Loss: 3.2958171367645264\n",
            "Batch 100 Loss: 3.2303214073181152\n",
            "Batch 200 Loss: 3.2299904823303223\n",
            "Batch 300 Loss: 3.2298343181610107\n",
            "Batch 400 Loss: 3.2295117378234863\n",
            "Batch 500 Loss: 3.2166941165924072\n",
            "Batch 600 Loss: 3.2033050060272217\n",
            "Batch 700 Loss: 3.168661117553711\n",
            "Batch 800 Loss: 3.1118245124816895\n",
            "Batch 900 Loss: 3.0740621089935303\n",
            "Batch 1000 Loss: 2.9269354343414307\n",
            "Batch 1100 Loss: 2.811577081680298\n",
            "Batch 1200 Loss: 2.758138418197632\n",
            "Batch 1300 Loss: 2.730489730834961\n",
            "Batch 1400 Loss: 2.719351053237915\n",
            "Batch 1500 Loss: 2.7109925746917725\n",
            "Batch 1600 Loss: 2.711327075958252\n",
            "Batch 1700 Loss: 2.7301177978515625\n",
            "Batch 1800 Loss: 2.704587936401367\n",
            "Batch 1900 Loss: 2.7058117389678955\n",
            "Epoch 2\n",
            "Batch 0 Loss: 2.7232260704040527\n",
            "Batch 100 Loss: 2.7246673107147217\n",
            "Batch 200 Loss: 2.7077648639678955\n",
            "Batch 300 Loss: 2.7203781604766846\n",
            "Batch 400 Loss: 2.7080981731414795\n",
            "Batch 500 Loss: 2.6987626552581787\n",
            "Batch 600 Loss: 2.717864990234375\n",
            "Batch 700 Loss: 2.707404375076294\n",
            "Batch 800 Loss: 2.7255711555480957\n",
            "Batch 900 Loss: 2.7136054039001465\n",
            "Batch 1000 Loss: 2.7237462997436523\n",
            "Batch 1100 Loss: 2.7051830291748047\n",
            "Batch 1200 Loss: 2.700653076171875\n",
            "Batch 1300 Loss: 2.709591865539551\n",
            "Batch 1400 Loss: 2.702697515487671\n",
            "Batch 1500 Loss: 2.7009506225585938\n",
            "Batch 1600 Loss: 2.7116904258728027\n",
            "Batch 1700 Loss: 2.716125249862671\n",
            "Batch 1800 Loss: 2.714463710784912\n",
            "Batch 1900 Loss: 2.713857650756836\n",
            "Epoch 3\n",
            "Batch 0 Loss: 2.7128686904907227\n",
            "Batch 100 Loss: 2.712688684463501\n",
            "Batch 200 Loss: 2.6963562965393066\n",
            "Batch 300 Loss: 2.7209157943725586\n",
            "Batch 400 Loss: 2.7137348651885986\n",
            "Batch 500 Loss: 2.71451473236084\n",
            "Batch 600 Loss: 2.707040548324585\n",
            "Batch 700 Loss: 2.7185165882110596\n",
            "Batch 800 Loss: 2.7153689861297607\n",
            "Batch 900 Loss: 2.6972732543945312\n",
            "Batch 1000 Loss: 2.7134268283843994\n",
            "Batch 1100 Loss: 2.7170541286468506\n",
            "Batch 1200 Loss: 2.7175583839416504\n",
            "Batch 1300 Loss: 2.699178457260132\n",
            "Batch 1400 Loss: 2.7072885036468506\n",
            "Batch 1500 Loss: 2.7047765254974365\n",
            "Batch 1600 Loss: 2.7046658992767334\n",
            "Batch 1700 Loss: 2.7019546031951904\n",
            "Batch 1800 Loss: 2.698709726333618\n",
            "Batch 1900 Loss: 2.700807809829712\n",
            "tests passed\n"
          ]
        }
      ],
      "source": [
        "import time\n",
        "start_time = time.time()\n",
        "\n",
        "# TODO\n",
        "device = torch.device('cuda' if torch.cuda.is_available() else 'cpu')\n",
        "model = GRUMemory(100).to(device)\n",
        "criterion = torch.nn.CrossEntropyLoss().to(device)\n",
        "optimizer = torch.optim.Adam(model.parameters(), lr=0.001)\n",
        "train_loader = torch.utils.data.DataLoader(ds, batch_size = 100)\n",
        "\n",
        "for epoch in range(3):\n",
        "  print(\"Epoch\", epoch+1)\n",
        "\n",
        "  for batch_idx, (data, res) in enumerate(train_loader):\n",
        "    optimizer.zero_grad()\n",
        "    data = idx_to_onehot(data, k=N+1).to(device)\n",
        "    res = res.to(device)\n",
        "    pred = model(data)\n",
        "    loss = criterion(pred.view(-1, N + 1), res.view(-1))\n",
        "    loss.backward()\n",
        "    optimizer.step()\n",
        "    if batch_idx % 100 == 0:\n",
        "      print(\"Batch\", batch_idx, \"Loss:\", loss.item())\n",
        "\n",
        "model = model.cpu()\n",
        "end_time = time.time()\n",
        "duration = end_time - start_time\n",
        "accuracy = test_model(model)\n",
        "assert duration < 600, 'execution took f{duration:.2f} seconds, which longer than 10 mins'\n",
        "assert accuracy > 0.99, f'accuracy is too low, got {accuracy}, need 0.99'\n",
        "print('tests passed')"
      ]
    },
    {
      "cell_type": "markdown",
      "metadata": {
        "id": "sB0EVNBtDhpN"
      },
      "source": [
        "## Variable delay model\n",
        "\n",
        "Now, to make this more complicated, we want to have varialbe delay. So, now, the goal is to transform a sequence of pairs (character, delay) into a character sequence with given delay. Delay is constant within one sequence."
      ]
    },
    {
      "cell_type": "markdown",
      "metadata": {
        "id": "3i_iwX_AEOCH"
      },
      "source": [
        "### Dataset\n",
        "As before, we first implement the dataset:"
      ]
    },
    {
      "cell_type": "code",
      "execution_count": 57,
      "metadata": {
        "id": "E4G5b8kuEUEd"
      },
      "outputs": [],
      "source": [
        "class VariableDelayEchoDataset(torch.utils.data.IterableDataset):\n",
        "\n",
        "  def __init__(self, max_delay=8, seq_length=20, size=1000):\n",
        "    self.max_delay = max_delay\n",
        "    self.seq_length = seq_length\n",
        "    self.size = size\n",
        "  \n",
        "  def __len__(self):\n",
        "    return self.size\n",
        "\n",
        "  def __iter__(self):\n",
        "    for _ in range(self.size):\n",
        "      seq = torch.tensor([random.choice(range(1, N + 1)) for i in range(self.seq_length)], dtype=torch.int64)\n",
        "      delay = random.randint(0, self.max_delay)\n",
        "      result = torch.cat((torch.zeros(delay), seq[:self.seq_length - delay])).type(torch.int64)\n",
        "      yield seq, delay, result"
      ]
    },
    {
      "cell_type": "markdown",
      "metadata": {
        "id": "oTRVOND3HEJZ"
      },
      "source": [
        "### Model\n",
        "\n",
        "And the model."
      ]
    },
    {
      "cell_type": "code",
      "execution_count": 80,
      "metadata": {
        "id": "IYolFIB8Hg0U"
      },
      "outputs": [],
      "source": [
        "class VariableDelayGRUMemory(torch.nn.Module):\n",
        "\n",
        "  def __init__(self, hidden_size, max_delay):\n",
        "    super().__init__()\n",
        "    #TODO\n",
        "    self.max_delay = max_delay\n",
        "    self.hidden_size = hidden_size\n",
        "    self.linear_z = torch.nn.Linear(27 + hidden_size, hidden_size)\n",
        "    self.linear_r = torch.nn.Linear(27 + hidden_size, hidden_size)\n",
        "    self.linear_h = torch.nn.Linear(27 + hidden_size, hidden_size)\n",
        "    self.linear = torch.nn.Linear(hidden_size, 27)\n",
        "    self.softmax = torch.nn.Softmax(dim=1)\n",
        "    self.fc = torch.nn.Linear(hidden_size + hidden_size, hidden_size)\n",
        "\n",
        "  def forward(self, x, delays):\n",
        "    # inputs:\n",
        "    # x - tensor of shape (batch size, seq length, N + 1)\n",
        "    # delays - tensor of shape (batch size)\n",
        "    # returns:\n",
        "    # logits (scores for softmax) of shape (batch size, seq_length, N + 1)\n",
        "\n",
        "    # TODO\n",
        "    batch_size, seq_length, _ = x.shape\n",
        "    h = torch.zeros(batch_size, self.hidden_size)\n",
        "    delay_buffer = torch.zeros(batch_size, self.max_delay + 1, self.hidden_size)\n",
        "    out = torch.zeros(batch_size, seq_length, self.hidden_size).to(x.device)\n",
        "\n",
        "    for t in range(seq_length):\n",
        "        z_t = torch.sigmoid(self.linear_z(torch.cat([x[:, t, :], h], dim=1)))\n",
        "        r_t = torch.sigmoid(self.linear_r(torch.cat([x[:, t, :], h], dim=1)))\n",
        "        r_temp = r_t * h \n",
        "        h_temp = torch.tanh(self.linear_h(torch.cat([x[:, t, :], r_temp], dim=1)))\n",
        "        h = (1 - z_t) * h + z_t * h_temp\n",
        "\n",
        "        # Get h_delay\n",
        "        delay_buffer = torch.cat([h.unsqueeze(dim=1), delay_buffer[:, :-1]], dim=1)\n",
        "        delay_pos = delays if isinstance(delays, torch.Tensor) else torch.tensor([delays])\n",
        "        h_delay = delay_buffer[torch.arange(batch_size), delay_pos.long()]\n",
        "\n",
        "        # Combine and fc layer\n",
        "        h_combined = torch.cat([h, h_delay], dim=1)\n",
        "        h_t = self.fc(h_combined)\n",
        "        out[:, t, :] = h_delay\n",
        "\n",
        "    out = self.linear(out)\n",
        "    out = self.softmax(out)\n",
        "    return out\n",
        "    \n",
        "\n",
        "  @torch.no_grad()\n",
        "  def test_run(self, s, delay):\n",
        "    # This function accepts one string s containing lowercase characters a-z, \n",
        "    # and a delay - the desired output delay.\n",
        "    # You need to map those characters to one-hot encodings, \n",
        "    # then get the result from your network, and then convert the output \n",
        "    # back to a string of the same length, with 0 mapped to ' ', \n",
        "    # and 1-26 mapped to a-z.\n",
        "\n",
        "    # TODO\n",
        "    s_onehot = torch.zeros(1, len(s), 27)\n",
        "    for i in range(len(s)):\n",
        "        if s[i] == ' ':\n",
        "          s_onehot[0, i, 0] = 1\n",
        "        else:\n",
        "          s_onehot[0, i, ord(s[i]) - ord('a') + 1] = 1\n",
        "\n",
        "    delay_input = torch.zeros(1)\n",
        "    delay_input = delay\n",
        "    output = self.forward(s_onehot, delay_input)\n",
        "\n",
        "    # Convert to string\n",
        "    s_out = ''\n",
        "    for i in range(output.size(1)):\n",
        "        c_out = torch.argmax(output[0, i]).item()\n",
        "        if c_out == 0:\n",
        "            s_out += ' '\n",
        "        else:\n",
        "            s_out += chr(c_out + ord('a') - 1)\n",
        "\n",
        "    return s_out\n"
      ]
    },
    {
      "cell_type": "markdown",
      "metadata": {
        "id": "riu3qHWgKjsx"
      },
      "source": [
        "### Train\n",
        "\n",
        "As before, you're free to do what you want, as long as training finishes within 10 minutes and accuracy is above 0.99 for delays between 0 and 8."
      ]
    },
    {
      "cell_type": "code",
      "execution_count": 62,
      "metadata": {
        "id": "4FZHojnGO3aw"
      },
      "outputs": [],
      "source": [
        "def test_variable_delay_model(model, seq_length=20):\n",
        "  \"\"\"\n",
        "  This is the test function that runs 100 different strings through your model,\n",
        "  and checks the error rate.\n",
        "  \"\"\"\n",
        "  total = 0\n",
        "  correct = 0\n",
        "  for i in range(500):\n",
        "    s = ''.join([random.choice(string.ascii_lowercase) for i in range(seq_length)])\n",
        "    d = random.randint(0, model.max_delay)\n",
        "    result = model.test_run(s, d)\n",
        "    if d > 0:\n",
        "      z = zip(s[:-d], result[d:])\n",
        "    else:\n",
        "      z = zip(s, result)\n",
        "    for c1, c2 in z:\n",
        "      correct += int(c1 == c2)\n",
        "    total += len(s) - d\n",
        "  return correct / total"
      ]
    },
    {
      "cell_type": "code",
      "execution_count": 82,
      "metadata": {
        "colab": {
          "base_uri": "https://localhost:8080/"
        },
        "id": "YJ18Ef6vKi4s",
        "outputId": "ac2ef5ab-28d8-4704-88f6-f2866aacd385"
      },
      "outputs": [
        {
          "name": "stdout",
          "output_type": "stream",
          "text": [
            "Epoch 1\n",
            "Batch 0 Loss: 3.2961738109588623\n",
            "Batch 100 Loss: 3.2091262340545654\n",
            "Batch 200 Loss: 2.7696821689605713\n",
            "Batch 300 Loss: 2.7153637409210205\n",
            "Batch 400 Loss: 2.712484121322632\n",
            "Batch 500 Loss: 2.7040889263153076\n",
            "Batch 600 Loss: 2.7180933952331543\n",
            "Batch 700 Loss: 2.726637125015259\n",
            "Batch 800 Loss: 2.7233896255493164\n",
            "Batch 900 Loss: 2.6904845237731934\n",
            "Batch 1000 Loss: 2.709113597869873\n",
            "Batch 1100 Loss: 2.714386224746704\n",
            "Batch 1200 Loss: 2.706068515777588\n",
            "Batch 1300 Loss: 2.7353627681732178\n",
            "Batch 1400 Loss: 2.7065770626068115\n",
            "Batch 1500 Loss: 2.708585023880005\n",
            "Batch 1600 Loss: 2.731459379196167\n",
            "Batch 1700 Loss: 2.701019048690796\n",
            "Batch 1800 Loss: 2.692622423171997\n",
            "Batch 1900 Loss: 2.72145676612854\n",
            "Batch 2000 Loss: 2.705446243286133\n",
            "Batch 2100 Loss: 2.7000861167907715\n",
            "Batch 2200 Loss: 2.7161219120025635\n",
            "Batch 2300 Loss: 2.710541248321533\n",
            "Batch 2400 Loss: 2.728123903274536\n",
            "Batch 2500 Loss: 2.711383104324341\n",
            "Batch 2600 Loss: 2.687221050262451\n",
            "Batch 2700 Loss: 2.7075867652893066\n",
            "Batch 2800 Loss: 2.727489948272705\n",
            "Batch 2900 Loss: 2.708275556564331\n",
            "Batch 3000 Loss: 2.7120249271392822\n",
            "Batch 3100 Loss: 2.7023255825042725\n",
            "tests passed\n"
          ]
        }
      ],
      "source": [
        "import time\n",
        "start_time = time.time()\n",
        "\n",
        "MAX_DELAY = 8\n",
        "SEQ_LENGTH = 20\n",
        "\n",
        "# TODO: implement model training here.\n",
        "device = torch.device('cpu')\n",
        "ds = VariableDelayEchoDataset(max_delay=MAX_DELAY, seq_length=SEQ_LENGTH, size=DATASET_SIZE)\n",
        "model = VariableDelayGRUMemory(80, MAX_DELAY).to(device)\n",
        "criterion = torch.nn.CrossEntropyLoss().to(device)\n",
        "optimizer = torch.optim.Adam(model.parameters(), lr=0.001)\n",
        "train_loader = torch.utils.data.DataLoader(ds, batch_size = 64)\n",
        "\n",
        "for epoch in range(1):\n",
        "  print(\"Epoch\", epoch+1)\n",
        "\n",
        "  for batch_idx, (data, delay, res) in enumerate(train_loader):\n",
        "    optimizer.zero_grad()\n",
        "    data = idx_to_onehot(data, k=N+1).to(device)\n",
        "    res = res.to(device)\n",
        "    pred = model(data, delay)\n",
        "    loss = criterion(pred.view(-1, N + 1), res.view(-1))\n",
        "    loss.backward()\n",
        "    optimizer.step()\n",
        "    if batch_idx % 100 == 0:\n",
        "      print(\"Batch\", batch_idx, \"Loss:\", loss.item())\n",
        "\n",
        "end_time = time.time()\n",
        "model = model.cpu()\n",
        "\n",
        "assert end_time - start_time < 600, 'executing took longer than 10 mins'\n",
        "assert test_variable_delay_model(model) > 0.99, 'accuracy is too low'\n",
        "print('tests passed')"
      ]
    }
  ],
  "metadata": {
    "accelerator": "GPU",
    "colab": {
      "provenance": []
    },
    "gpuClass": "standard",
    "kernelspec": {
      "display_name": "Python 3",
      "language": "python",
      "name": "python3"
    },
    "language_info": {
      "name": "python",
      "version": "3.10.4"
    },
    "vscode": {
      "interpreter": {
        "hash": "08eb4fb58a4b9c33333729776eece94017b5dc3fda72abf40d5b97f8217233ba"
      }
    }
  },
  "nbformat": 4,
  "nbformat_minor": 0
}
