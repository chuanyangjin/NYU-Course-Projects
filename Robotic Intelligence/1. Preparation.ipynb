{
  "cells": [
    {
      "cell_type": "markdown",
      "metadata": {
        "id": "BbtOQkrv_nn7"
      },
      "source": [
        "# Introduction to Robot Intelligence HW 1: Coding Questions\n",
        "\n",
        "The is the coding potion of Homework 1. These questions are aimed at testing your ability to code up fundamental mathematical operations using Python and the numpy library.\n",
        "\n",
        "For submission instructions, please see the theory portion of Homework 1."
      ]
    },
    {
      "cell_type": "code",
      "execution_count": 1,
      "metadata": {
        "id": "p5haE8Nt_nn8"
      },
      "outputs": [],
      "source": [
        "import numpy as np"
      ]
    },
    {
      "cell_type": "markdown",
      "metadata": {
        "id": "taCvPlvW_nn9"
      },
      "source": [
        "## Part 1 : Solve Systems of linear equations\n",
        "\n",
        "Given n linear equations with at most `n` unknown variables, write a function `solve_system` that can solve an arbitrary system of equations. Your function should output a single vector of values that satisfies the system. You may assume that `n <= 4`.\n",
        "\n",
        "The system of equations will be provided as a list of strings as seen in `test_eq`. You may also assume that the variables will always be denoted as `a`, `b`, `c`, and `d`.\n"
      ]
    },
    {
      "cell_type": "code",
      "execution_count": 45,
      "metadata": {
        "id": "X4jNegxt_nn9"
      },
      "outputs": [],
      "source": [
        "def solve_system(equations):\n",
        "  \"\"\"\"\n",
        "  Takes in a list of strings for each equation. \n",
        "  Returns a numpy array with a row for each equation value\n",
        "  \"\"\"\n",
        "  # TODO: Start\n",
        "  A = np.zeros((4, 4))\n",
        "  b = np.zeros(4)\n",
        "  for i in range(len(equations)):\n",
        "    chars = equations[i].split()\n",
        "    num, sign, bflag = 1.0, 1.0, False\n",
        "    for char in chars:\n",
        "      if bflag:\n",
        "        b[i] = float(char)\n",
        "      elif char == \"=\":\n",
        "        bflag = True\n",
        "      elif char in \"abcd\":\n",
        "        A[i][ord(char)-97] = num\n",
        "        num, sign = 1.0, 1.0\n",
        "      elif char == \"-\":\n",
        "        sign = -1.0\n",
        "      elif char.lstrip(\"-\").isdigit():\n",
        "        num = sign * float(char)\n",
        "  \n",
        "  results = np.linalg.lstsq(A, b, rcond = 1e-10)[0]\n",
        "  if (not (np.all(abs(np.dot(A, results) - b) < 1e-10 ))):\n",
        "    raise ValueError(\"No solution exists.\")\n",
        "  return results.reshape(-1, 1)\n",
        "  # TODO: End\n"
      ]
    },
    {
      "cell_type": "code",
      "execution_count": 46,
      "metadata": {
        "id": "0HCoxuFT_nn-"
      },
      "outputs": [],
      "source": [
        "def test_eq():\n",
        "  sys_eq = ['2 a + b - 3 c + d = 9',\n",
        "            '-5 a + 1 b - 4 c + d = -14',\n",
        "            'a + 2 b - 10 c = -7',\n",
        "            'a + 2 b = 13']\n",
        "  results = solve_system(sys_eq)\n",
        "  expected = np.array([[3],[5],[2],[4]])\n",
        "\n",
        "  assert(np.all(abs(expected-results) < 1e-10 ))"
      ]
    },
    {
      "cell_type": "code",
      "execution_count": 47,
      "metadata": {
        "id": "pKrBLnFD_nn-"
      },
      "outputs": [],
      "source": [
        "test_eq()"
      ]
    },
    {
      "cell_type": "markdown",
      "metadata": {
        "id": "xexyL2Jq_nn-"
      },
      "source": [
        "## Part 2 : Split a dataset into test and train\n",
        "\n",
        "In supervised learning, the dataset is usually split into a train set (on which the model is trained) and a test set (to evaluate the trained model). This part of the homework requires writing a function `split_into_train_and_test` that takes a dataset and the test-train split ration as input, and provides the data split as an output. The function takes a `random_state` variable as input, which when kept the same outputs precisely the same split for arbitrary runs of the function."
      ]
    },
    {
      "cell_type": "code",
      "execution_count": null,
      "metadata": {
        "id": "zHZNUbEV_nn-"
      },
      "outputs": [],
      "source": [
        "def split_into_train_and_test(x_all_LF, frac_test=0.5, random_state=None):\n",
        "    ''' Divide provided array into train and test sets along first dimension\n",
        "    User can provide random number generator object to ensure reproducibility.\n",
        "    Args\n",
        "    ----\n",
        "    x_all_LF : 2D np.array, shape = (n_total_examples, n_features) (L, F)\n",
        "        Each row is a feature vector\n",
        "    frac_test : float, fraction between 0 and 1\n",
        "        Indicates fraction of all L examples to allocate to the \"test\" set\n",
        "        Returned test set will round UP if frac_test * L is not an integer.\n",
        "        e.g. if L = 10 and frac_test = 0.31, then test set has N=4 examples\n",
        "    random_state : np.random.RandomState instance or integer or None\n",
        "        If int, will create RandomState instance with provided value as seed\n",
        "        If None, defaults to current numpy random number generator np.random.\n",
        "    Returns\n",
        "    -------\n",
        "    x_train_MF : 2D np.array, shape = (n_train_examples, n_features) (M, F)\n",
        "        Each row is a feature vector\n",
        "        Should be a separately allocated array, NOT a view of any input array\n",
        "    x_test_NF : 2D np.array, shape = (n_test_examples, n_features) (N, F)\n",
        "        Each row is a feature vector\n",
        "        Should be a separately allocated array, NOT a view of any input array\n",
        "    Post Condition\n",
        "    --------------\n",
        "    This function should be side-effect free. Provided input array x_all_LF\n",
        "    should not change at all (not be shuffled, etc.)\n",
        "    Examples\n",
        "    --------\n",
        "    >>> x_LF = np.eye(10)\n",
        "    >>> xcopy_LF = x_LF.copy() # preserve what input was before the call\n",
        "    >>> train_MF, test_NF = split_into_train_and_test(\n",
        "    ...     x_LF, frac_test=0.201, random_state=np.random.RandomState(0))\n",
        "    >>> train_MF.shape\n",
        "    (7, 10)\n",
        "    >>> test_NF.shape\n",
        "    (3, 10)\n",
        "    >>> print(train_MF)\n",
        "    [[0. 0. 1. 0. 0. 0. 0. 0. 0. 0.]\n",
        "     [0. 0. 0. 0. 0. 0. 0. 0. 1. 0.]\n",
        "     [0. 0. 0. 0. 1. 0. 0. 0. 0. 0.]\n",
        "     [0. 0. 0. 0. 0. 0. 0. 0. 0. 1.]\n",
        "     [0. 1. 0. 0. 0. 0. 0. 0. 0. 0.]\n",
        "     [0. 0. 0. 0. 0. 0. 1. 0. 0. 0.]\n",
        "     [0. 0. 0. 0. 0. 0. 0. 1. 0. 0.]]\n",
        "    >>> print(test_NF)\n",
        "    [[0. 0. 0. 1. 0. 0. 0. 0. 0. 0.]\n",
        "     [1. 0. 0. 0. 0. 0. 0. 0. 0. 0.]\n",
        "     [0. 0. 0. 0. 0. 1. 0. 0. 0. 0.]]\n",
        "    ## Verify that input array did not change due to function call\n",
        "    >>> np.allclose(x_LF, xcopy_LF)\n",
        "    True\n",
        "    References\n",
        "    ----------\n",
        "    For more about RandomState, see:\n",
        "    https://stackoverflow.com/questions/28064634/random-state-pseudo-random-numberin-scikit-learn\n",
        "    '''\n",
        "    if random_state is None:\n",
        "        random_state = np.random\n",
        "    # TODO: Start\n",
        "    x_all_LF_copy = x_all_LF.copy()\n",
        "    random_state.shuffle(x_all_LF_copy)\n",
        "    num_train = int((1-frac_test) * len(x_all_LF))  # round down for num_train, which automatically rounds up for num_test\n",
        "    x_train_MF, x_test_NF = x_all_LF_copy[:num_train,:], x_all_LF_copy[num_train:,:]\n",
        "    return x_train_MF, x_test_NF\n",
        "    # TODO: End"
      ]
    },
    {
      "cell_type": "markdown",
      "metadata": {
        "id": "PcHwfkga_nn_"
      },
      "source": [
        "### Part 3: Solving a Search Problem\n",
        "\n",
        "In this problem, given a list of N intervals, we want to find the closest non-overlapping interval greater than each interval in the dataset. The function `closest_interval` takes in the list of intervals and return a list of indices corresponding to the index of the closest interval for each element in the list. If a particular interval does not have a closest non-overlapping interval in the given list, return `-1` corresponding to that element in the list."
      ]
    },
    {
      "cell_type": "code",
      "execution_count": null,
      "metadata": {
        "id": "Ac_Ijh2j_nn_"
      },
      "outputs": [],
      "source": [
        "def closest_interval(intervals):\n",
        "    #TODO: Start\n",
        "    results = np.array([-1 for _ in range(len(intervals))])\n",
        "\n",
        "    for i in range(len(intervals)):\n",
        "      for j in range(len(intervals)):\n",
        "        if intervals[j][0] > intervals[i][1]:\n",
        "          if (results[i] == -1) or (intervals[j][0] < intervals[results[i]][0]):\n",
        "            results[i] = j\n",
        "\n",
        "    return results\n",
        "    # TODO: End"
      ]
    },
    {
      "cell_type": "code",
      "execution_count": null,
      "metadata": {
        "id": "MidqRMRB_noA"
      },
      "outputs": [],
      "source": [
        "intervals = np.array([[1, 4],\n",
        "                      [2, 5],\n",
        "                      [8, 9],\n",
        "                      [6, 8],\n",
        "                      [9, 10],\n",
        "                      [3, 4],\n",
        "                      [7, 9],\n",
        "                      [5, 7]])\n",
        "\n",
        "expected_closest_intervals = closest_interval(intervals)\n",
        "\n",
        "# Evaluate\n",
        "results = np.array([7, 3, -1, 4, -1, 7, -1, 2])\n",
        "assert(np.all(abs(expected_closest_intervals-results) < 1e-10 ))"
      ]
    }
  ],
  "metadata": {
    "kernelspec": {
      "display_name": "Python 3.8.13 ('mlug')",
      "language": "python",
      "name": "python3"
    },
    "language_info": {
      "codemirror_mode": {
        "name": "ipython",
        "version": 3
      },
      "file_extension": ".py",
      "mimetype": "text/x-python",
      "name": "python",
      "nbconvert_exporter": "python",
      "pygments_lexer": "ipython3",
      "version": "3.8.13"
    },
    "orig_nbformat": 4,
    "vscode": {
      "interpreter": {
        "hash": "fc6f77fc95e5420108aa348103e4498d1d0de016cf7e1fd7da540445454c305d"
      }
    },
    "colab": {
      "provenance": []
    }
  },
  "nbformat": 4,
  "nbformat_minor": 0
}