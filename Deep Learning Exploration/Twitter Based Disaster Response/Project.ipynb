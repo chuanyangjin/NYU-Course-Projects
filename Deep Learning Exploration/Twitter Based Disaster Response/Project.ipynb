{
 "cells": [
  {
   "cell_type": "markdown",
   "metadata": {},
   "source": [
    "# CS-UY 4563 Final Project\n",
    "### Chuanyang Jin, Alex(Yu) Yan  \n",
    "The results are already displayed. The code for different model includes several trials and takes up too much time to run (and also we combined training & testing so there is a need to switch between the uncommented and commented part)."
   ]
  },
  {
   "cell_type": "markdown",
   "metadata": {},
   "source": [
    "## File Loading"
   ]
  },
  {
   "cell_type": "code",
   "execution_count": 1,
   "metadata": {},
   "outputs": [],
   "source": [
    "import numpy as np\n",
    "import pandas as pd\n",
    "pd.options.mode.chained_assignment = None  # removing annoying warnings\n",
    "import re\n",
    "import seaborn as sns   \n",
    "import matplotlib.pyplot as plt\n",
    "\n",
    "import warnings\n",
    "warnings.filterwarnings('ignore')  # disable warnings\n",
    "\n",
    "from sklearn import feature_extraction\n",
    "from sklearn.model_selection import train_test_split\n",
    "from sklearn.metrics import precision_recall_fscore_support\n",
    "from sentence_transformers import SentenceTransformer\n",
    "from sklearn.linear_model import LogisticRegression\n",
    "from sklearn.svm import SVC\n",
    "from sklearn.neural_network import MLPClassifier\n",
    "from sklearn.metrics import confusion_matrix\n",
    "\n",
    "\n",
    "# Reading in the dataset\n",
    "train_df = pd.read_csv(\"train.csv\")"
   ]
  },
  {
   "cell_type": "markdown",
   "metadata": {},
   "source": [
    "## Preprocessing"
   ]
  },
  {
   "cell_type": "markdown",
   "metadata": {},
   "source": [
    "We first clean up the meaningless words from the samples to reduce feature number & prevent overfitting."
   ]
  },
  {
   "cell_type": "code",
   "execution_count": 2,
   "metadata": {},
   "outputs": [],
   "source": [
    "# Clean up the text data\n",
    "def clean_text(texts):\n",
    "    # convert into lower letters to filter out repetition in features\n",
    "    texts[:] = [text.lower() for text in texts]          \n",
    "\n",
    "    # http:// ... / word  or  http:// ... / word                 \n",
    "    texts[:] = [re.sub(r'https?:\\/\\/.*\\/\\w*', 'URL', text) for text in texts]   \n",
    "\n",
    "    # meaningless things like mentioning a friend (e.g. @username)\n",
    "    texts[:] = [re.sub(r'@\\w+([-.]\\w+)*', '', text) for text in texts]          \n",
    "\n",
    "    # meaningless symbols followed by &, such as '&amp', which is a meaningless web \n",
    "    texts[:] = [re.sub(r'&\\w+([-.]\\w+)*', '', text) for text in texts]\n",
    "\n",
    "\n",
    "\n",
    "clean_text(train_df['text'])\n",
    "\n"
   ]
  },
  {
   "cell_type": "markdown",
   "metadata": {},
   "source": [
    "## Feature Transformation 1\n",
    "Use sklearn's built in feature extraction to create a sparse martrix where every word appeared in the dataset becomes a feature."
   ]
  },
  {
   "cell_type": "code",
   "execution_count": 51,
   "metadata": {},
   "outputs": [],
   "source": [
    "# Using sklearn.feature_extraction.text.CountVectorizer()\n",
    "# This converts a collection of text documents to a matrix of token counts,\n",
    "# and produces a sparse representation of the counts using scipy.sparse.csr_matrix.\n",
    "\n",
    "count_vectorizer = feature_extraction.text.CountVectorizer(stop_words='english')\n",
    "X_trainval = count_vectorizer.fit_transform(train_df[\"text\"])\n",
    "feature_transform = 'Token Count'"
   ]
  },
  {
   "cell_type": "markdown",
   "metadata": {},
   "source": [
    "## Feature Transformation 2\n",
    "Use another sklearn feature extraction method to apply tf-idf transformation to the feature vector."
   ]
  },
  {
   "cell_type": "code",
   "execution_count": 84,
   "metadata": {},
   "outputs": [],
   "source": [
    "# Using sklearn.feature_extraction.text.TfidfVectorizer()\n",
    "# This converts a collection of text documents to a matrix of token counts, but adds tf-idf\n",
    "# and produces a sparse representation of the counts using scipy.sparse.csr_matrix.\n",
    "\n",
    "tfidf_vectorizer = feature_extraction.text.TfidfVectorizer(stop_words='english')\n",
    "X_trainval = tfidf_vectorizer.fit_transform(train_df[\"text\"])\n",
    "feature_transform = 'TF-IDF'"
   ]
  },
  {
   "cell_type": "markdown",
   "metadata": {},
   "source": [
    "## Feature Transformation 3\n",
    "We can also apply BERT pre-training to our feature to reduce feature number."
   ]
  },
  {
   "cell_type": "code",
   "execution_count": 3,
   "metadata": {},
   "outputs": [],
   "source": [
    "# Using a pre-trained BERT model\n",
    "# It produces 384 features.\n",
    "\n",
    "bert_model = SentenceTransformer('all-MiniLM-L12-v1')\n",
    "X_trainval = bert_model.encode(train_df[\"text\"])\n",
    "feature_transform = 'BERT'"
   ]
  },
  {
   "cell_type": "markdown",
   "metadata": {},
   "source": [
    "## Before Training\n",
    "Split training set and validation set using train_test_split"
   ]
  },
  {
   "cell_type": "code",
   "execution_count": 4,
   "metadata": {},
   "outputs": [],
   "source": [
    "# Split the training set into training and validation set\n",
    "\n",
    "y_label = train_df['target']\n",
    "X_train, X_val, y_train, y_val = train_test_split(X_trainval, y_label, test_size=0.1, random_state=10)"
   ]
  },
  {
   "cell_type": "markdown",
   "metadata": {},
   "source": [
    "## Method 1: Logistic Regression"
   ]
  },
  {
   "cell_type": "code",
   "execution_count": 15,
   "metadata": {},
   "outputs": [],
   "source": [
    "# Fit the logistic regression model on the training set\n",
    "def logistic(C, penalty, solver):\n",
    "    logreg = LogisticRegression(C = C, max_iter = 100000, multi_class = 'ovr', penalty = penalty, solver = solver)\n",
    "    logreg.fit(X_train, y_train)\n",
    "    # Find the predicted values on the validation set\n",
    "\n",
    "    y_hat_logreg = logreg.predict(X_val)\n",
    "    # Switch between training and testing results\n",
    "    # y_hat_logreg = logreg.predict(X_train)\n",
    "    \n",
    "    return y_hat_logreg"
   ]
  },
  {
   "cell_type": "markdown",
   "metadata": {},
   "source": [
    "Conducting the logistic regression:"
   ]
  },
  {
   "cell_type": "code",
   "execution_count": 53,
   "metadata": {},
   "outputs": [
    {
     "name": "stdout",
     "output_type": "stream",
     "text": [
      "current Iteration: C=0.01, penalty: none\n",
      "current Iteration: C=0.01, penalty: l1\n",
      "current Iteration: C=0.01, penalty: l2\n",
      "current Iteration: C=0.1, penalty: none\n",
      "current Iteration: C=0.1, penalty: l1\n",
      "current Iteration: C=0.1, penalty: l2\n",
      "current Iteration: C=1, penalty: none\n",
      "current Iteration: C=1, penalty: l1\n",
      "current Iteration: C=1, penalty: l2\n",
      "current Iteration: C=10, penalty: none\n",
      "current Iteration: C=10, penalty: l1\n",
      "current Iteration: C=10, penalty: l2\n",
      "current Iteration: C=100, penalty: none\n",
      "current Iteration: C=100, penalty: l1\n",
      "current Iteration: C=100, penalty: l2\n",
      "current Iteration: C=1000, penalty: none\n",
      "current Iteration: C=1000, penalty: l1\n",
      "current Iteration: C=1000, penalty: l2\n",
      "current Iteration: C=10000, penalty: none\n",
      "current Iteration: C=10000, penalty: l1\n",
      "current Iteration: C=10000, penalty: l2\n"
     ]
    }
   ],
   "source": [
    "logreg_result_l1 = []\n",
    "logreg_result_l2 = []\n",
    "logreg_result_none = []\n",
    "for C in [0.01, 0.1, 1, 10, 100, 1000, 10000]:\n",
    "    for penalty in ['none','l1','l2']:\n",
    "        if penalty == 'none':\n",
    "            y_hat_logreg = logistic(C, penalty, solver = 'sag') # liblinear does not support no regularization\n",
    "            print(f\"current Iteration: C={C}, penalty: {penalty}\")\n",
    "            logreg_result_none.append(y_hat_logreg)\n",
    "        else:\n",
    "            y_hat_logreg = logistic(C, penalty, solver = 'liblinear')\n",
    "            print(f\"current Iteration: C={C}, penalty: {penalty}\")\n",
    "            if penalty == 'l1':\n",
    "                logreg_result_l1.append(y_hat_logreg)\n",
    "            if penalty == 'l2':\n",
    "                logreg_result_l2.append(y_hat_logreg)"
   ]
  },
  {
   "cell_type": "code",
   "execution_count": 54,
   "metadata": {},
   "outputs": [
    {
     "name": "stdout",
     "output_type": "stream",
     "text": [
      "[0.7822222222222222, 0.7822222222222222, 0.7822222222222222, 0.7822222222222222, 0.7822222222222222, 0.7822222222222222, 0.7822222222222222] [0.0, 0.7617602427921093, 0.7909774436090226, 0.7862481315396115, 0.7833827893175074, 0.7840236686390533, 0.7822222222222222] [0.7441860465116279, 0.7896341463414633, 0.7957957957957958, 0.7868852459016393, 0.7845468053491828, 0.7840236686390533, 0.7822222222222222]\n"
     ]
    }
   ],
   "source": [
    "# Find Precision, recall and fscore on the validation set\n",
    "f1_lr_none = []\n",
    "f1_lr_l1 = []\n",
    "f1_lr_l2 = []\n",
    "\n",
    "# Testing:\n",
    "\n",
    "for each in logreg_result_none:\n",
    "    _, _, fscore, _ = precision_recall_fscore_support(y_val, each, average='binary')\n",
    "    f1_lr_none.append(fscore)\n",
    "for each in logreg_result_l1:\n",
    "    _, _, fscore, _ = precision_recall_fscore_support(y_val, each, average='binary')\n",
    "    f1_lr_l1.append(fscore)\n",
    "for each in logreg_result_l2:\n",
    "    prec, recal, fscore, _ = precision_recall_fscore_support(y_val, each, average='binary')\n",
    "    f1_lr_l2.append(fscore)\n",
    "\n",
    "# Switch between training & testing results\n",
    "\n",
    "#Training:\n",
    "\n",
    "# for each in logreg_result_none:\n",
    "#     _, _, fscore, _ = precision_recall_fscore_support(y_train, each, average='binary')\n",
    "#     f1_lr_none.append(fscore)\n",
    "# for each in logreg_result_l1:\n",
    "#     _, _, fscore, _ = precision_recall_fscore_support(y_train, each, average='binary')\n",
    "#     f1_lr_l1.append(fscore)\n",
    "# for each in logreg_result_l2:\n",
    "#     prec, recal, fscore, _ = precision_recall_fscore_support(y_train, each, average='binary')\n",
    "#     f1_lr_l2.append(fscore)\n",
    "\n",
    "print(f1_lr_none, f1_lr_l1, f1_lr_l2)"
   ]
  },
  {
   "cell_type": "code",
   "execution_count": 55,
   "metadata": {},
   "outputs": [
    {
     "data": {
      "text/plain": [
       "<AxesSubplot:>"
      ]
     },
     "execution_count": 55,
     "metadata": {},
     "output_type": "execute_result"
    },
    {
     "data": {
      "image/png": "[encoded data removed]",
      "text/plain": [
       "<Figure size 432x288 with 2 Axes>"
      ]
     },
     "metadata": {
      "needs_background": "light"
     },
     "output_type": "display_data"
    }
   ],
   "source": [
    "# Confusion Matrix -> for visualization presented in paper only\n",
    "\n",
    "confusion_matrix_logreg = confusion_matrix(y_val, logreg_result_l2[3])\n",
    "sns.heatmap(confusion_matrix_logreg, annot=True, fmt='d', cmap=\"Oranges\")"
   ]
  },
  {
   "cell_type": "code",
   "execution_count": 60,
   "metadata": {},
   "outputs": [
    {
     "data": {
      "image/png": "[encoded data removed]",
      "text/plain": [
       "<Figure size 432x288 with 1 Axes>"
      ]
     },
     "metadata": {
      "needs_background": "light"
     },
     "output_type": "display_data"
    }
   ],
   "source": [
    "# Visualization of performance based on hyperparameters\n",
    "\n",
    "# plt.title(f'C vs. Training F1 score ({feature_transform})')\n",
    "plt.title(f'C vs. Testing F1 score ({feature_transform})')\n",
    "plt.xlabel('C')\n",
    "plt.ylabel('F1 score')\n",
    "C_used = ['0.01','0.1', '1', '10', '100', '1000', '10000']\n",
    "penalties = ['none','l1','l2']\n",
    "plt.plot(C_used, f1_lr_none, color='g', label = 'none')\n",
    "plt.plot(C_used, f1_lr_l1, color='b', label = 'L1')\n",
    "plt.plot(C_used, f1_lr_l2, color='r', label = 'L2')\n",
    "plt.legend(loc='lower right')\n",
    "plt.ylim(0,1)\n",
    "plt.show()\n"
   ]
  },
  {
   "cell_type": "code",
   "execution_count": 26,
   "metadata": {},
   "outputs": [
    {
     "name": "stdout",
     "output_type": "stream",
     "text": [
      "0.7969924812030075\n"
     ]
    },
    {
     "data": {
      "text/plain": [
       "<AxesSubplot:>"
      ]
     },
     "execution_count": 26,
     "metadata": {},
     "output_type": "execute_result"
    },
    {
     "data": {
      "image/png": "[encoded data removed]",
      "text/plain": [
       "<Figure size 432x288 with 2 Axes>"
      ]
     },
     "metadata": {
      "needs_background": "light"
     },
     "output_type": "display_data"
    }
   ],
   "source": [
    "# y_hat_logreg = logistic(0.6, 'l2',  solver = 'liblinear')    # fscore: 0.793985\n",
    "# y_hat_logreg = logistic(0.7, 'l2',  solver = 'liblinear')    # fscore: 0.795796\n",
    "# y_hat_logreg = logistic(0.75, 'l2',  solver = 'liblinear')   # fscore: 0.796992   Best!\n",
    "y_hat_logreg = logistic(0.8, 'l2',  solver = 'liblinear')      # fscore: 0.796992   Best!\n",
    "# y_hat_logreg = logistic(0.85, 'l2',  solver = 'liblinear')   # fscore: 0.795796\n",
    "# y_hat_logreg = logistic(0.9, 'l2',  solver = 'liblinear')    # fscore: 0.795796\n",
    "# y_hat_logreg = logistic(1, 'l2',  solver = 'liblinear')      # fscore: 0.795796\n",
    "# y_hat_logreg = logistic(1.2, 'l2',  solver = 'liblinear')    # fscore: 0.793985\n",
    "# y_hat_logreg = logistic(1.4, 'l2',  solver = 'liblinear')    # fscore: 0.791541\n",
    "_, _, fscore, _ = precision_recall_fscore_support(y_val, y_hat_logreg, average='binary') \n",
    "print(fscore)\n",
    "\n",
    "confusion_matrix_logreg = confusion_matrix(y_val, y_hat_logreg)\n",
    "sns.heatmap(confusion_matrix_logreg, annot=True, fmt='d', cmap=\"Oranges\")"
   ]
  },
  {
   "cell_type": "markdown",
   "metadata": {},
   "source": [
    "## Method 2: SVM"
   ]
  },
  {
   "cell_type": "code",
   "execution_count": 5,
   "metadata": {},
   "outputs": [],
   "source": [
    "# Fit the SVM model on the training set\n",
    "def svm(C, kernel):\n",
    "    svm = SVC(C = C, kernel = kernel)\n",
    "    svm.fit(X_train, y_train)\n",
    "    # Find the predicted values on the validation set\n",
    "\n",
    "    y_hat_svm = svm.predict(X_val)\n",
    "    # y_hat_svm = svm.predict(X_train)\n",
    "\n",
    "    return y_hat_svm"
   ]
  },
  {
   "cell_type": "code",
   "execution_count": 91,
   "metadata": {},
   "outputs": [
    {
     "name": "stdout",
     "output_type": "stream",
     "text": [
      "current Iteration: C=0.01, kernel: rbf\n",
      "current Iteration: C=0.01, kernel: linear\n",
      "current Iteration: C=0.01, kernel: poly\n",
      "current Iteration: C=0.1, kernel: rbf\n",
      "current Iteration: C=0.1, kernel: linear\n",
      "current Iteration: C=0.1, kernel: poly\n",
      "current Iteration: C=1, kernel: rbf\n",
      "current Iteration: C=1, kernel: linear\n",
      "current Iteration: C=1, kernel: poly\n",
      "current Iteration: C=10, kernel: rbf\n",
      "current Iteration: C=10, kernel: linear\n",
      "current Iteration: C=10, kernel: poly\n",
      "current Iteration: C=100, kernel: rbf\n",
      "current Iteration: C=100, kernel: linear\n",
      "current Iteration: C=100, kernel: poly\n",
      "current Iteration: C=1000, kernel: rbf\n",
      "current Iteration: C=1000, kernel: linear\n",
      "current Iteration: C=1000, kernel: poly\n"
     ]
    }
   ],
   "source": [
    "svm_result_rbf = []\n",
    "svm_result_linear = []\n",
    "svm_result_poly = []\n",
    "for C in [0.01, 0.1, 1, 10, 100, 1000]:\n",
    "    for kernel in ['rbf','linear','poly']:\n",
    "        y_hat_svm = svm(C, kernel)\n",
    "        print(f\"current Iteration: C={C}, kernel: {kernel}\")\n",
    "        if kernel == 'rbf':\n",
    "            svm_result_rbf.append(y_hat_svm)\n",
    "        elif kernel == 'linear':\n",
    "            svm_result_linear.append(y_hat_svm)\n",
    "        elif kernel == 'poly':\n",
    "            svm_result_poly.append(y_hat_svm)"
   ]
  },
  {
   "cell_type": "code",
   "execution_count": 92,
   "metadata": {},
   "outputs": [
    {
     "name": "stdout",
     "output_type": "stream",
     "text": [
      "[0.0, 0.19289340101522842, 0.7272727272727272, 0.7424000000000001, 0.7424000000000001, 0.7424000000000001] [0.0, 0.4745762711864407, 0.7523809523809525, 0.7333333333333334, 0.702865761689291, 0.716012084592145] [0.0, 0.1266490765171504, 0.5091649694501018, 0.5261044176706827, 0.5171717171717172, 0.4533898305084746]\n"
     ]
    }
   ],
   "source": [
    "# Find Precision, recall and fscore on the validation set\n",
    "f1_svm_rbf = []\n",
    "f1_svm_linear = []\n",
    "f1_svm_poly = []\n",
    "\n",
    "\n",
    "# for each in svm_result_rbf:\n",
    "#     _, _, fscore, _ = precision_recall_fscore_support(y_train, each, average='binary')\n",
    "#     f1_svm_rbf.append(fscore)\n",
    "# for each in svm_result_linear:\n",
    "#     _, _, fscore, _ = precision_recall_fscore_support(y_train, each, average='binary')\n",
    "#     f1_svm_linear.append(fscore)\n",
    "# for each in svm_result_poly:\n",
    "#     _, _, fscore, _ = precision_recall_fscore_support(y_train, each, average='binary')\n",
    "#     f1_svm_poly.append(fscore)\n",
    "\n",
    "# Switch between training & testing fscores\n",
    "\n",
    "for each in svm_result_rbf:\n",
    "    _, _, fscore, _ = precision_recall_fscore_support(y_val, each, average='binary')\n",
    "    f1_svm_rbf.append(fscore)\n",
    "for each in svm_result_linear:\n",
    "    _, _, fscore, _ = precision_recall_fscore_support(y_val, each, average='binary')\n",
    "    f1_svm_linear.append(fscore)\n",
    "for each in svm_result_poly:\n",
    "    _, _, fscore, _ = precision_recall_fscore_support(y_val, each, average='binary')\n",
    "    f1_svm_poly.append(fscore)\n",
    "\n",
    "\n",
    "print(f1_svm_rbf, f1_svm_linear, f1_svm_poly)"
   ]
  },
  {
   "cell_type": "code",
   "execution_count": 93,
   "metadata": {},
   "outputs": [
    {
     "data": {
      "text/plain": [
       "<AxesSubplot:>"
      ]
     },
     "execution_count": 93,
     "metadata": {},
     "output_type": "execute_result"
    },
    {
     "data": {
      "image/png": "[encoded data removed]",
      "text/plain": [
       "<Figure size 432x288 with 2 Axes>"
      ]
     },
     "metadata": {
      "needs_background": "light"
     },
     "output_type": "display_data"
    }
   ],
   "source": [
    "# Confusion Matrix\n",
    "\n",
    "confusion_matrix_svm = confusion_matrix(y_val, svm_result_linear[2])\n",
    "sns.heatmap(confusion_matrix_svm, annot=True, fmt='d', cmap=\"Oranges\")"
   ]
  },
  {
   "cell_type": "code",
   "execution_count": 94,
   "metadata": {},
   "outputs": [
    {
     "data": {
      "image/png": "[encoded data removed]",
      "text/plain": [
       "<Figure size 432x288 with 1 Axes>"
      ]
     },
     "metadata": {
      "needs_background": "light"
     },
     "output_type": "display_data"
    }
   ],
   "source": [
    "# Visualization of performance based on hyperparameters\n",
    "\n",
    "plt.title(f'C vs. Testing F1 score ({feature_transform})')\n",
    "# plt.title(f'C vs. Training F1 score ({feature_transform})')\n",
    "plt.xlabel('C')\n",
    "plt.ylabel('F1 score')\n",
    "C_used = ['0.01','0.1', '1', '10', '100', '1000']\n",
    "plt.plot(C_used, f1_svm_rbf, color='g', label='RBF')\n",
    "plt.plot(C_used, f1_svm_linear, color='b', label='Linear')\n",
    "plt.plot(C_used, f1_svm_poly, color='r', label='Polynomial')\n",
    "plt.ylim(0,1)\n",
    "plt.legend(loc='lower right')\n",
    "plt.show()"
   ]
  },
  {
   "cell_type": "code",
   "execution_count": 14,
   "metadata": {},
   "outputs": [
    {
     "name": "stdout",
     "output_type": "stream",
     "text": [
      "0.8110599078341013\n"
     ]
    },
    {
     "data": {
      "text/plain": [
       "<AxesSubplot:>"
      ]
     },
     "execution_count": 14,
     "metadata": {},
     "output_type": "execute_result"
    },
    {
     "data": {
      "image/png": "[encoded data removed]",
      "text/plain": [
       "<Figure size 432x288 with 2 Axes>"
      ]
     },
     "metadata": {
      "needs_background": "light"
     },
     "output_type": "display_data"
    }
   ],
   "source": [
    "# y_hat_svm = svm(0.8, 'rbf')  # fscore: 0.792570\n",
    "# y_hat_svm = svm(0.8, 'rbf')  # fscore: 0.8\n",
    "# y_hat_svm = svm(1, 'rbf')  # fscore: 0.7987711\n",
    "# y_hat_svm = svm(1.2, 'rbf')  # fscore: 0.804314\n",
    "# y_hat_svm = svm(1.4, 'rbf')  # fscore: 0.807396\n",
    "# y_hat_svm = svm(1.6, 'rbf')  # fscore: 0.811060    Best!\n",
    "y_hat_svm = svm(1.7, 'rbf')  # fscore: 0.811060      Best!\n",
    "# y_hat_svm = svm(1.8, 'rbf')  # fscore: 0.811060    Best!\n",
    "# y_hat_svm = svm(2, 'rbf')  # fscore: 0.807988\n",
    "# y_hat_svm = svm(3, 'rbf')  # fscore: 0.8\n",
    "_, _, fscore, _ = precision_recall_fscore_support(y_val, y_hat_svm, average='binary') \n",
    "print(fscore)\n",
    "\n",
    "confusion_matrix_svm = confusion_matrix(y_val, y_hat_svm)\n",
    "sns.heatmap(confusion_matrix_svm, annot=True, fmt='d', cmap=\"Oranges\")"
   ]
  },
  {
   "cell_type": "markdown",
   "metadata": {},
   "source": [
    "## Method 3: Neural Network"
   ]
  },
  {
   "cell_type": "code",
   "execution_count": 65,
   "metadata": {},
   "outputs": [],
   "source": [
    "# Fit the neural network model on the training set\n",
    "def neural_network(alpha, activation, nn_structure):\n",
    "    nn = MLPClassifier(hidden_layer_sizes=nn_structure, alpha = alpha, activation = activation, max_iter=10000)\n",
    "    nn.fit(X_train, y_train)\n",
    "    # Find the predicted values on the validation set\n",
    "\n",
    "    y_hat_nn = nn.predict(X_val)\n",
    "    # Switch between training & testing set\n",
    "    # y_hat_nn = nn.predict(X_train)\n",
    "\n",
    "    return y_hat_nn"
   ]
  },
  {
   "cell_type": "code",
   "execution_count": 66,
   "metadata": {},
   "outputs": [
    {
     "name": "stdout",
     "output_type": "stream",
     "text": [
      "current Iteration: alpha=0.0001, activation: logistic\n",
      "current Iteration: alpha=0.0001, activation: relu\n",
      "current Iteration: alpha=0.0001, activation: tanh\n",
      "current Iteration: alpha=0.001, activation: logistic\n",
      "current Iteration: alpha=0.001, activation: relu\n",
      "current Iteration: alpha=0.001, activation: tanh\n",
      "current Iteration: alpha=0.01, activation: logistic\n",
      "current Iteration: alpha=0.01, activation: relu\n",
      "current Iteration: alpha=0.01, activation: tanh\n",
      "current Iteration: alpha=0.1, activation: logistic\n",
      "current Iteration: alpha=0.1, activation: relu\n",
      "current Iteration: alpha=0.1, activation: tanh\n",
      "current Iteration: alpha=1, activation: logistic\n",
      "current Iteration: alpha=1, activation: relu\n",
      "current Iteration: alpha=1, activation: tanh\n"
     ]
    }
   ],
   "source": [
    "nn_result_logistic = []\n",
    "nn_result_relu = []\n",
    "nn_result_tanh = []\n",
    "\n",
    "nn_structure = (256, 48)\n",
    "# Tuning neural network structure is omitted here for the sake of saving time\n",
    "# This is the best nn_structure observed by tuning nn_structure manually\n",
    "\n",
    "for alpha in [0.0001,0.001,0.01,0.1, 1]:\n",
    "    for activation in ['logistic','relu','tanh']:\n",
    "        y_hat_nn = neural_network(alpha, activation, nn_structure)\n",
    "        print(f\"current Iteration: alpha={alpha}, activation: {activation}\")\n",
    "        if activation == 'logistic':\n",
    "            nn_result_logistic.append(y_hat_nn)\n",
    "        if activation == 'relu':\n",
    "            nn_result_relu.append(y_hat_nn)\n",
    "        if activation == 'tanh':\n",
    "            nn_result_tanh.append(y_hat_nn)"
   ]
  },
  {
   "cell_type": "code",
   "execution_count": 16,
   "metadata": {},
   "outputs": [
    {
     "name": "stdout",
     "output_type": "stream",
     "text": [
      "[0.7932618683001532, 0.7927382753403933, 0.7901234567901234, 0.794074074074074, 0.0] [0.7705627705627706, 0.7801204819277109, 0.7654320987654321, 0.7756315007429421, 0.8] [0.7496423462088699, 0.7341040462427746, 0.7471264367816092, 0.7621951219512195, 0.7933634992458524]\n"
     ]
    }
   ],
   "source": [
    "f1_nn_logistic = []\n",
    "f1_nn_relu = []\n",
    "f1_nn_tanh = []\n",
    "\n",
    "for each in nn_result_logistic:\n",
    "    _, _, fscore, _ = precision_recall_fscore_support(y_val, each, average='binary')\n",
    "    f1_nn_logistic.append(fscore)\n",
    "for each in nn_result_relu:\n",
    "    _, _, fscore, _ = precision_recall_fscore_support(y_val, each, average='binary')\n",
    "    f1_nn_relu.append(fscore)\n",
    "for each in nn_result_tanh:\n",
    "    prec, recal, fscore, _ = precision_recall_fscore_support(y_val, each, average='binary')\n",
    "    f1_nn_tanh.append(fscore)\n",
    "\n",
    "# Switch between training and validation\n",
    "\n",
    "# for each in nn_result_logistic:\n",
    "#     _, _, fscore, _ = precision_recall_fscore_support(y_train, each, average='binary')\n",
    "#     f1_nn_logistic.append(fscore)\n",
    "# for each in nn_result_relu:\n",
    "#     _, _, fscore, _ = precision_recall_fscore_support(y_train, each, average='binary')\n",
    "#     f1_nn_relu.append(fscore)\n",
    "# for each in nn_result_tanh:\n",
    "#     prec, recal, fscore, _ = precision_recall_fscore_support(y_train, each, average='binary')\n",
    "#     f1_nn_tanh.append(fscore)\n",
    "\n",
    "\n",
    "print(f1_nn_logistic, f1_nn_relu, f1_nn_tanh)\n"
   ]
  },
  {
   "cell_type": "code",
   "execution_count": 19,
   "metadata": {},
   "outputs": [
    {
     "data": {
      "text/plain": [
       "<AxesSubplot:>"
      ]
     },
     "execution_count": 19,
     "metadata": {},
     "output_type": "execute_result"
    },
    {
     "data": {
      "image/png": "[encoded data removed]",
      "text/plain": [
       "<Figure size 432x288 with 2 Axes>"
      ]
     },
     "metadata": {
      "needs_background": "light"
     },
     "output_type": "display_data"
    }
   ],
   "source": [
    "# Confusion Matrix\n",
    "\n",
    "confusion_matrix_nn = confusion_matrix(y_val, nn_result_relu[4])\n",
    "sns.heatmap(confusion_matrix_nn, annot=True, fmt='d', cmap=\"Oranges\")"
   ]
  },
  {
   "cell_type": "code",
   "execution_count": 18,
   "metadata": {},
   "outputs": [
    {
     "data": {
      "image/png": "[encoded data removed]",
      "text/plain": [
       "<Figure size 432x288 with 1 Axes>"
      ]
     },
     "metadata": {
      "needs_background": "light"
     },
     "output_type": "display_data"
    }
   ],
   "source": [
    "# Visualization of performance based on hyperparameters\n",
    "\n",
    "plt.title(f'lambda (L2 penalty) vs. Testing F1 score ({feature_transform})')\n",
    "# plt.title(f'lambda (L2 penalty) vs. Training F1 score ({feature_transform})')\n",
    "plt.xlabel('lambda')\n",
    "plt.ylabel('F1 score')\n",
    "C_used = ['0.0001','0.001','0.01','0.1', '1']\n",
    "plt.plot(C_used, f1_nn_logistic, color='g', label='logistic')\n",
    "plt.plot(C_used, f1_nn_relu, color='b', label='ReLU')\n",
    "plt.plot(C_used, f1_nn_tanh, color='r', label='tanh')\n",
    "plt.ylim(0,1)\n",
    "plt.legend(loc='lower left')\n",
    "plt.show()"
   ]
  },
  {
   "cell_type": "markdown",
   "metadata": {},
   "source": [
    "# Method 4: Naive Bayes"
   ]
  },
  {
   "cell_type": "code",
   "execution_count": 95,
   "metadata": {},
   "outputs": [],
   "source": [
    "# Fit the naive_bayes model on the training set\n",
    "from sklearn.naive_bayes import BernoulliNB\n",
    "from sklearn.naive_bayes import GaussianNB\n",
    "from sklearn.naive_bayes import MultinomialNB\n",
    "from sklearn.naive_bayes import CategoricalNB\n",
    "from sklearn.naive_bayes import ComplementNB\n",
    "# nb = BernoulliNB(alpha=0.1)     # fscore:  0.7891737891737892\n",
    "nb = BernoulliNB(alpha=1)         # fscore:  0.7891737891737892\n",
    "# nb = BernoulliNB(alpha=10)      # fscore:  0.7891737891737892\n",
    "\n",
    "# nb = BernoulliNB(binarize=0.001)         # fscore:  0.7857142857142857\n",
    "# nb = BernoulliNB(binarize=0.0001)         # fscore:  0.7874465049928673\n",
    "\n",
    "# nb = BernoulliNB(fit_prior=False)         # fscore:  0.788135593220339\n",
    "\n",
    "\n",
    "# nb = GaussianNB()         # fscore:  0.7839771101573677\n",
    "# nb = CategoricalNB()      # fscore: 0.0\n",
    "# nb = ComplementNB()       # cannot deal with negative values\n",
    "# nb = MultinomialNB()      # cannot deal with negative values\n",
    "\n",
    "nb.fit(X_train, y_train)       \n",
    "# Find the predicted values on the validation set\n",
    "y_hat_nb = nb.predict(X_val)"
   ]
  },
  {
   "cell_type": "code",
   "execution_count": 96,
   "metadata": {},
   "outputs": [
    {
     "name": "stdout",
     "output_type": "stream",
     "text": [
      "prec:  0.7982708933717579\n",
      "recal:  0.780281690140845\n",
      "fscore:  0.7891737891737892\n"
     ]
    },
    {
     "data": {
      "text/plain": [
       "<AxesSubplot:>"
      ]
     },
     "execution_count": 96,
     "metadata": {},
     "output_type": "execute_result"
    },
    {
     "data": {
      "image/png": "[encoded data removed]",
      "text/plain": [
       "<Figure size 432x288 with 2 Axes>"
      ]
     },
     "metadata": {
      "needs_background": "light"
     },
     "output_type": "display_data"
    }
   ],
   "source": [
    "# Find Precision, recall and fscore on the validation set\n",
    "from sklearn.metrics import precision_recall_fscore_support\n",
    "prec, recal, fscore, _ = precision_recall_fscore_support(y_val, y_hat_nb,average='binary')\n",
    "print('prec: ', prec)\n",
    "print('recal: ', recal)\n",
    "print('fscore: ', fscore)\n",
    "\n",
    "# Confusion Matrix\n",
    "confusion_matrix_nb = confusion_matrix(y_val, y_hat_nb)\n",
    "sns.heatmap(confusion_matrix_nb, annot=True, fmt='d', cmap=\"Oranges\")"
   ]
  },
  {
   "cell_type": "markdown",
   "metadata": {},
   "source": [
    "# Method 5: Random Forest"
   ]
  },
  {
   "cell_type": "code",
   "execution_count": 61,
   "metadata": {},
   "outputs": [],
   "source": [
    "# Fit the random forest model on the training set\n",
    "from sklearn.ensemble import RandomForestClassifier\n",
    "# n_estimators = number of trees\n",
    "# rf = RandomForestClassifier(n_estimators=10)        # fscore:  0.6885245901639344\n",
    "# rf = RandomForestClassifier(n_estimators=50)        # fscore:  0.7576243980738362\n",
    "# rf = RandomForestClassifier(n_estimators=90)        # fscore:  0.770440\n",
    "rf = RandomForestClassifier(n_estimators=100)         # fscore:  0.7868338557993729\n",
    "# rf = RandomForestClassifier(n_estimators=110)       # fscore:  0.7641509433962265\n",
    "# rf = RandomForestClassifier(n_estimators=200)       # fscore:  0.7670364500792393\n",
    "# rf = RandomForestClassifier(n_estimators=1000)      # fscore:  0.7733755942947703\n",
    "rf.fit(X_train, y_train)\n",
    "# Find the predicted values on the validation set\n",
    "y_hat_rf = rf.predict(X_val)"
   ]
  },
  {
   "cell_type": "code",
   "execution_count": 62,
   "metadata": {},
   "outputs": [
    {
     "name": "stdout",
     "output_type": "stream",
     "text": [
      "prec:  0.8811188811188811\n",
      "recal:  0.7098591549295775\n",
      "fscore:  0.7862714508580344\n"
     ]
    },
    {
     "data": {
      "text/plain": [
       "<AxesSubplot:>"
      ]
     },
     "execution_count": 62,
     "metadata": {},
     "output_type": "execute_result"
    },
    {
     "data": {
      "image/png": "[encoded data removed]",
      "text/plain": [
       "<Figure size 432x288 with 2 Axes>"
      ]
     },
     "metadata": {
      "needs_background": "light"
     },
     "output_type": "display_data"
    }
   ],
   "source": [
    "# Find Precision, recall and fscore on the validation set\n",
    "from sklearn.metrics import precision_recall_fscore_support\n",
    "prec, recal, fscore, _ = precision_recall_fscore_support(y_val, y_hat_rf,average='binary')\n",
    "print('prec: ', prec)\n",
    "print('recal: ', recal)\n",
    "print('fscore: ', fscore)\n",
    "\n",
    "# Confusion Matrix\n",
    "confusion_matrix_rf = confusion_matrix(y_val, y_hat_rf)\n",
    "sns.heatmap(confusion_matrix_rf, annot=True, fmt='d', cmap=\"Oranges\")"
   ]
  },
  {
   "cell_type": "markdown",
   "metadata": {},
   "source": [
    "# Method 6: Gradient Boosting"
   ]
  },
  {
   "cell_type": "code",
   "execution_count": 102,
   "metadata": {},
   "outputs": [],
   "source": [
    "# Fit the gradient boosting model on the training set\n",
    "from sklearn.ensemble import GradientBoostingClassifier\n",
    "gb = GradientBoostingClassifier(learning_rate=0.1, n_estimators=100)      # fscore: 0.7914110429447853\n",
    "# gb = GradientBoostingClassifier(learning_rate=0.1, n_estimators=99)      # fscore: 0.7914110429447853\n",
    "# gb = GradientBoostingClassifier(learning_rate=0.08, n_estimators=125)   # fscore:  0.7870370370370371\n",
    "# gb = GradientBoostingClassifier(learning_rate=1.1, n_estimators=90)     # fscore:  0.7478260869565216\n",
    "gb.fit(X_train, y_train)\n",
    "# Find the predicted values on the validation set\n",
    "y_hat_gb = gb.predict(X_val)"
   ]
  },
  {
   "cell_type": "code",
   "execution_count": 104,
   "metadata": {},
   "outputs": [
    {
     "name": "stdout",
     "output_type": "stream",
     "text": [
      "prec:  0.8686868686868687\n",
      "recal:  0.7267605633802817\n",
      "fscore:  0.7914110429447853\n"
     ]
    },
    {
     "data": {
      "text/plain": [
       "<AxesSubplot:>"
      ]
     },
     "execution_count": 104,
     "metadata": {},
     "output_type": "execute_result"
    },
    {
     "data": {
      "image/png": "[encoded data removed]",
      "text/plain": [
       "<Figure size 432x288 with 2 Axes>"
      ]
     },
     "metadata": {
      "needs_background": "light"
     },
     "output_type": "display_data"
    }
   ],
   "source": [
    "# Find Precision, recall and fscore on the validation set\n",
    "from sklearn.metrics import precision_recall_fscore_support\n",
    "prec, recal, fscore, _ = precision_recall_fscore_support(y_val, y_hat_gb,average='binary')\n",
    "print('prec: ', prec)\n",
    "print('recal: ', recal)\n",
    "print('fscore: ', fscore)\n",
    "\n",
    "# Confusion Matrix\n",
    "confusion_matrix_gb = confusion_matrix(y_val, y_hat_gb)\n",
    "sns.heatmap(confusion_matrix_gb, annot=True, fmt='d', cmap=\"Oranges\")"
   ]
  },
  {
   "cell_type": "code",
   "execution_count": 119,
   "metadata": {},
   "outputs": [
    {
     "name": "stdout",
     "output_type": "stream",
     "text": [
      "fscore:  0.7969924812030075\n",
      "fscore:  0.8110599078341013\n",
      "fscore:  0.8023255813953489\n",
      "fscore:  0.8035714285714287\n",
      "fscore:  0.8025276461295419\n",
      "fscore:  0.812121212121212\n"
     ]
    },
    {
     "data": {
      "text/plain": [
       "<AxesSubplot:>"
      ]
     },
     "execution_count": 119,
     "metadata": {},
     "output_type": "execute_result"
    },
    {
     "data": {
      "image/png": "[encoded data removed]",
      "text/plain": [
       "<Figure size 432x288 with 2 Axes>"
      ]
     },
     "metadata": {
      "needs_background": "light"
     },
     "output_type": "display_data"
    }
   ],
   "source": [
    "y_hat_1 = y_hat_logreg\n",
    "y_hat_2 = y_hat_svm\n",
    "y_hat_3 = nn_result_relu[4]\n",
    "_, _, fscore1, _ = precision_recall_fscore_support(y_val, y_hat_1,average='binary')\n",
    "print('fscore: ', fscore1)\n",
    "_, _, fscore2, _ = precision_recall_fscore_support(y_val, y_hat_2,average='binary')\n",
    "print('fscore: ', fscore2)\n",
    "_, _, fscore3, _ = precision_recall_fscore_support(y_val, y_hat_3,average='binary')\n",
    "print('fscore: ', fscore3)\n",
    "\n",
    "y_hat_4 = []\n",
    "for i in range(len(y_hat_logreg)):\n",
    "    y_hat_4.append((y_hat_1[i]+(y_hat_2[i]+(y_hat_3[i]))) // 2)\n",
    "_, _, fscore4, _ = precision_recall_fscore_support(y_val, y_hat_4,average='binary')\n",
    "print('fscore: ', fscore4)\n",
    "\n",
    "y_hat_5 = []\n",
    "for i in range(len(y_hat_logreg)):\n",
    "    y_hat_5.append((y_hat_1[i]+(y_hat_2[i]+(y_hat_3[i]))) // 3)\n",
    "_, _, fscore5, _ = precision_recall_fscore_support(y_val, y_hat_5,average='binary')\n",
    "print('fscore: ', fscore5)\n",
    "\n",
    "# Highest fscore method!!!!!\n",
    "y_hat_gb\n",
    "y_hat_6 = []\n",
    "for i in range(len(y_hat_logreg)):\n",
    "    if (y_hat_1[i] == y_hat_3[i]) and (y_hat_3[i] == y_hat_gb[i]):\n",
    "        y_hat_6.append(y_hat_1[i])\n",
    "    else:\n",
    "        y_hat_6.append(y_hat_2[i])\n",
    "_, _, fscore6, _ = precision_recall_fscore_support(y_val, y_hat_6,average='binary')\n",
    "print('fscore: ', fscore6)\n",
    "\n",
    "# Confusion Matrix\n",
    "confusion_matrix_6 = confusion_matrix(y_val, y_hat_6)\n",
    "sns.heatmap(confusion_matrix_6, annot=True, fmt='d', cmap=\"Oranges\")"
   ]
  }
 ],
 "metadata": {
  "interpreter": {
   "hash": "31f2aee4e71d21fbe5cf8b01ff0e069b9275f58929596ceb00d14d90e3e16cd6"
  },
  "kernelspec": {
   "display_name": "Python 3.8.9 64-bit",
   "language": "python",
   "name": "python3"
  },
  "language_info": {
   "codemirror_mode": {
    "name": "ipython",
    "version": 3
   },
   "file_extension": ".py",
   "mimetype": "text/x-python",
   "name": "python",
   "nbconvert_exporter": "python",
   "pygments_lexer": "ipython3",
   "version": "3.10.4"
  },
  "orig_nbformat": 4
 },
 "nbformat": 4,
 "nbformat_minor": 2
}
